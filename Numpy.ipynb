{
 "cells": [
  {
   "cell_type": "code",
   "execution_count": null,
   "id": "587a6c03-9516-4598-bfeb-a37e7a8c0f77",
   "metadata": {},
   "outputs": [],
   "source": [
    "# Numpy and Linear Algebra Practice"
   ]
  }
 ],
 "metadata": {
  "kernelspec": {
   "display_name": "",
   "name": ""
  },
  "language_info": {
   "name": ""
  }
 },
 "nbformat": 4,
 "nbformat_minor": 5
}
